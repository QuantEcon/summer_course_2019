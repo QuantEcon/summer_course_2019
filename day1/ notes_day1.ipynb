{
 "cells": [
  {
   "cell_type": "markdown",
   "metadata": {},
   "source": [
    "# 1 notes_day1"
   ]
  },
  {
   "cell_type": "markdown",
   "metadata": {},
   "source": [
    "## 1 a brief intro to Python"
   ]
  },
  {
   "cell_type": "code",
   "execution_count": 2,
   "metadata": {},
   "outputs": [
    {
     "name": "stdout",
     "output_type": "stream",
     "text": [
      "Today's date is 2019-12-16.\n"
     ]
    }
   ],
   "source": [
    "import datetime\n",
    "\n",
    "datetime_object = datetime.datetime.now()\n",
    "date = datetime_object.date()\n",
    "\n",
    "print(f\"Today's date is {date}.\")"
   ]
  },
  {
   "cell_type": "code",
   "execution_count": 3,
   "metadata": {},
   "outputs": [
    {
     "name": "stdout",
     "output_type": "stream",
     "text": [
      "The next year is 2020\n"
     ]
    }
   ],
   "source": [
    "print(f\"The next year is {date.year + 1}\")"
   ]
  },
  {
   "cell_type": "markdown",
   "metadata": {},
   "source": [
    "## 2 need for speed\n",
    "\n",
    "`%%time`: it gives us how long it takes.\n",
    "ipython cellmagic\n",
    "\n",
    "`%%timeit`: it gives us more specific details"
   ]
  },
  {
   "cell_type": "code",
   "execution_count": 6,
   "metadata": {},
   "outputs": [],
   "source": [
    "import numpy as np\n",
    "\n",
    "def f(x, y):\n",
    "    return np.cos(x**2 + y**2) / (1 + x**2 + y**2)\n",
    "\n",
    "grid = np.linspace(-3, 3, 1000)"
   ]
  },
  {
   "cell_type": "code",
   "execution_count": 11,
   "metadata": {},
   "outputs": [
    {
     "name": "stdout",
     "output_type": "stream",
     "text": [
      "0.9999819641085747\n"
     ]
    }
   ],
   "source": [
    "m = -np.inf\n",
    "\n",
    "for x in grid:\n",
    "    for y in grid:\n",
    "        z = f(x, y)\n",
    "        if z > m:\n",
    "            m = z\n",
    "print(m)"
   ]
  },
  {
   "cell_type": "code",
   "execution_count": 12,
   "metadata": {},
   "outputs": [
    {
     "data": {
      "text/plain": [
       "0.9999819641085747"
      ]
     },
     "execution_count": 12,
     "metadata": {},
     "output_type": "execute_result"
    }
   ],
   "source": [
    "x, y = np.meshgrid(grid, grid)\n",
    "np.max(f(x,y))"
   ]
  },
  {
   "cell_type": "markdown",
   "metadata": {},
   "source": [
    "### Exercises"
   ]
  },
  {
   "cell_type": "markdown",
   "metadata": {},
   "source": [
    "## 2 Numpy\n",
    "\n",
    "### Exercise 1\n",
    "\n",
    "Consider the polynomial expression\n",
    "\n",
    "\n",
    "<a id='equation-np-polynom'></a>\n",
    "$$\n",
    "p(x) = a_0 + a_1 x + a_2 x^2 + \\cdots a_N x^N = \\sum_{n=0}^N a_n x^n \\tag{1}\n",
    "$$\n",
    "\n",
    "[Earlier](python_essentials.ipynb#pyess-ex2), you wrote a simple function `p(x, coeff)` to evaluate [(1)](#equation-np-polynom) without considering efficiency.\n",
    "\n",
    "Now write a new function that does the same job, but uses NumPy arrays and array operations for its computations, rather than any form of Python loop.\n",
    "\n",
    "(Such functionality is already implemented as `np.poly1d`, but for the sake of the exercise don’t use this class)\n",
    "\n",
    "- Hint: Use `np.cumprod()`  \n",
    "\n",
    "\n",
    "\n",
    "<a id='np-ex2'></a>"
   ]
  },
  {
   "cell_type": "code",
   "execution_count": 85,
   "metadata": {},
   "outputs": [],
   "source": [
    "import numpy as np\n",
    "\n",
    "def p(x, coeff):\n",
    "    A = coeff\n",
    "    X = np.empty(len(A)-1)\n",
    "    X[:] = x\n",
    "    X = np.cumprod(X)\n",
    "    Z = 1\n",
    "    X = np.append(Z, X)\n",
    "    return A @ X"
   ]
  },
  {
   "cell_type": "code",
   "execution_count": 86,
   "metadata": {},
   "outputs": [],
   "source": [
    "x = 2\n",
    "coeff = [1, 1, 1, 1]"
   ]
  },
  {
   "cell_type": "code",
   "execution_count": 87,
   "metadata": {},
   "outputs": [
    {
     "data": {
      "text/plain": [
       "15.0"
      ]
     },
     "execution_count": 87,
     "metadata": {},
     "output_type": "execute_result"
    }
   ],
   "source": [
    "p(x, coeff)"
   ]
  },
  {
   "cell_type": "markdown",
   "metadata": {},
   "source": [
    "### Exercise 2\n",
    "\n",
    "Let `q` be a NumPy array of length `n` with `q.sum() == 1`.\n",
    "\n",
    "Suppose that `q` represents a [probability mass function](https://en.wikipedia.org/wiki/Probability_mass_function).\n",
    "\n",
    "We wish to generate a discrete random variable $ x $ such that $ \\mathbb P\\{x = i\\} = q_i $.\n",
    "\n",
    "In other words, `x` takes values in `range(len(q))` and `x = i` with probability `q[i]`.\n",
    "\n",
    "The standard (inverse transform) algorithm is as follows:\n",
    "\n",
    "- Divide the unit interval $ [0, 1] $ into $ n $ subintervals $ I_0, I_1, \\ldots, I_{n-1} $ such that the length of $ I_i $ is $ q_i $.  \n",
    "- Draw a uniform random variable $ U $ on $ [0, 1] $ and return the $ i $ such that $ U \\in I_i $.  \n",
    "\n",
    "\n",
    "The probability of drawing $ i $ is the length of $ I_i $, which is equal to $ q_i $.\n",
    "\n",
    "We can implement the algorithm as follows"
   ]
  },
  {
   "cell_type": "code",
   "execution_count": 17,
   "metadata": {},
   "outputs": [],
   "source": [
    "from random import uniform\n",
    "\n",
    "def sample(q):\n",
    "    a = 0.0 # left endpoint of [0,1]\n",
    "    U = uniform(0, 1)\n",
    "    for i in range(len(q)):\n",
    "        if a < U <= a + q[i]:\n",
    "            return i\n",
    "        a = a + q[i]\n",
    "np.searchsorted()\n",
    "np.cumsum()"
   ]
  },
  {
   "cell_type": "markdown",
   "metadata": {},
   "source": [
    "If you can’t see how this works, try thinking through the flow for a simple example, such as `q = [0.25, 0.75]`\n",
    "It helps to sketch the intervals on paper.\n",
    "\n",
    "Your exercise is to speed it up using NumPy, avoiding explicit loops\n",
    "\n",
    "- Hint: Use `np.searchsorted` and `np.cumsum`  \n",
    "\n",
    "\n",
    "If you can, implement the functionality as a class called `discreteRV`, where\n",
    "\n",
    "- the data for an instance of the class is the vector of probabilities `q`  \n",
    "- the class has a `draw()` method, which returns one draw according to the algorithm described above  \n",
    "\n",
    "\n",
    "If you can, write the method so that `draw(k)` returns `k` draws from `q`.\n",
    "\n",
    "\n",
    "<a id='np-ex3'></a>"
   ]
  },
  {
   "cell_type": "code",
   "execution_count": 112,
   "metadata": {},
   "outputs": [
    {
     "data": {
      "text/plain": [
       "array([0.25, 1.  ])"
      ]
     },
     "execution_count": 112,
     "metadata": {},
     "output_type": "execute_result"
    }
   ],
   "source": [
    "q = [0.25, 0.75]\n",
    "\n",
    "np.cumsum(q)"
   ]
  },
  {
   "cell_type": "code",
   "execution_count": 127,
   "metadata": {},
   "outputs": [],
   "source": [
    "def draw(q):\n",
    "    U = uniform(0,1)\n",
    "    Q = np.cumsum(q)\n",
    "    return np.searchsorted(Q, U)\n",
    "    "
   ]
  },
  {
   "cell_type": "code",
   "execution_count": 129,
   "metadata": {},
   "outputs": [
    {
     "data": {
      "text/plain": [
       "1"
      ]
     },
     "execution_count": 129,
     "metadata": {},
     "output_type": "execute_result"
    }
   ],
   "source": [
    "draw(q)"
   ]
  },
  {
   "cell_type": "code",
   "execution_count": null,
   "metadata": {},
   "outputs": [],
   "source": []
  },
  {
   "cell_type": "markdown",
   "metadata": {},
   "source": [
    "## 3 Scipy"
   ]
  },
  {
   "cell_type": "markdown",
   "metadata": {},
   "source": [
    "### Exercise 1\n",
    "\n",
    "\n",
    "\n",
    "Consider a firm with profit function \n",
    "\n",
    "$$ \\pi(p, q) = pq -\\exp(q) - 0.5 q^2 $$\n",
    "\n",
    "Plot profit maximizing $\\pi$ with respect to $q$ as a function of price for $p \\in [5, 10]$.\n",
    "\n",
    "\n",
    "Note: for this exercise, the solution is embedded in the notebook rather than the website.  See below."
   ]
  },
  {
   "cell_type": "code",
   "execution_count": 96,
   "metadata": {},
   "outputs": [
    {
     "data": {
      "image/png": "[encoded data removed]",
      "text/plain": [
       "<Figure size 432x288 with 1 Axes>"
      ]
     },
     "metadata": {
      "needs_background": "light"
     },
     "output_type": "display_data"
    }
   ],
   "source": [
    "import numpy as np\n",
    "import math as ma\n",
    "import matplotlib.pyplot as plt\n",
    "%matplotlib inline\n",
    "\n",
    "\n",
    "def π(p, q):\n",
    "    return p * q - np.exp(q) - 0.5 * (q**2)\n",
    "\n",
    "fig, ax= plt.subplots()\n",
    "p = np.linspace(5, 10, 10)\n",
    "q = np.linspace(0, 100, 100)\n",
    "\n",
    "for i in p:\n",
    "    y = π(i, q)\n",
    "    current_label = f'$p = {i:0.2}$'\n",
    "    ax.plot(q, y,alpha=0.6, label=current_label)\n",
    "ax.legend(loc='right')\n",
    "plt.show()\n"
   ]
  },
  {
   "cell_type": "code",
   "execution_count": 49,
   "metadata": {
    "scrolled": true
   },
   "outputs": [
    {
     "data": {
      "image/png": "[encoded data removed]",
      "text/plain": [
       "<Figure size 576x432 with 1 Axes>"
      ]
     },
     "metadata": {
      "needs_background": "light"
     },
     "output_type": "display_data"
    }
   ],
   "source": [
    "import matplotlib.pyplot as plt\n",
    "from mpl_toolkits.mplot3d.axes3d import Axes3D\n",
    "from matplotlib import cm\n",
    "\n",
    "def π(p, q):\n",
    "    return p * q - np.exp(q) - 0.5 * (q**2)\n",
    "\n",
    "pgrid = np.linspace(5, 10, 100)\n",
    "qgrid = np.linspace(0, 100, 100)\n",
    "p, q = np.meshgrid(pgrid, qgrid)\n",
    "\n",
    "fig= plt.figure(figsize=(8, 6))\n",
    "ax = fig.add_subplot(111, projection='3d')\n",
    "ax.plot_surface(p,\n",
    "                q,\n",
    "                π(p, q),\n",
    "                rstride=2, cstride=2,\n",
    "               cmap=cm.jet,\n",
    "               alpha = 0.7,\n",
    "               linewidth=0.25)\n",
    "ax.set_zlim(-5,10)\n",
    "ax.legend\n",
    "plt.show()\n"
   ]
  },
  {
   "cell_type": "markdown",
   "metadata": {},
   "source": [
    "## 4 Matplotlib\n"
   ]
  },
  {
   "cell_type": "markdown",
   "metadata": {},
   "source": [
    "### Exercise 1\n",
    "\n",
    "Plot the function\n",
    "\n",
    "$$\n",
    "f(x) = \\cos(\\pi \\theta x) \\exp(-x)\n",
    "$$\n",
    "\n",
    "over the interval $ [0, 5] $ for each $ \\theta $ in `np.linspace(0, 2, 10)`.\n",
    "\n",
    "Place all the curves in the same figure.\n",
    "\n",
    "The output should look like this\n",
    "\n",
    "![matplotlib_ex1.png](figures/matplotlib_ex1.png)  "
   ]
  },
  {
   "cell_type": "code",
   "execution_count": 89,
   "metadata": {},
   "outputs": [
    {
     "data": {
      "image/png": "[encoded data removed]",
      "text/plain": [
       "<Figure size 432x288 with 1 Axes>"
      ]
     },
     "metadata": {
      "needs_background": "light"
     },
     "output_type": "display_data"
    }
   ],
   "source": [
    "import numpy as np\n",
    "import math as ma\n",
    "import matplotlib.pyplot as plt\n",
    "%matplotlib inline\n",
    "\n",
    "\n",
    "def f(x, θ):\n",
    "    return np.cos(ma.pi * θ * x)*np.exp(-x)\n",
    "\n",
    "fig, ax= plt.subplots()\n",
    "x = np.linspace(0,5, 1000)\n",
    "θ = np.linspace(0, 2, 10)\n",
    "for i in θ:\n",
    "    y = f(x, i)\n",
    "    current_label = f'$\\mu = {i:0.2}$'\n",
    "    ax.plot(x, y,alpha=0.6, label=current_label)\n",
    "ax.legend(loc='right')\n",
    "plt.show()\n",
    "    "
   ]
  },
  {
   "cell_type": "code",
   "execution_count": null,
   "metadata": {},
   "outputs": [],
   "source": []
  },
  {
   "cell_type": "markdown",
   "metadata": {},
   "source": [
    "### Exercise 2\n",
    "\n",
    "Here's an implementation of the [empirical cumulative distribution function](https://en.wikipedia.org/wiki/Empirical_distribution_function).\n",
    "\n",
    "The ``__call__`` method allows the user to evaluation the class as if it was a function.\n",
    "\n",
    "For each ``x``, this method gives the fraction of the sample ``observations`` that is ``<= x``."
   ]
  },
  {
   "cell_type": "code",
   "execution_count": 183,
   "metadata": {},
   "outputs": [],
   "source": [
    "class ECDF:\n",
    "\n",
    "    def __init__(self, observations):\n",
    "        self.observations = observations\n",
    "\n",
    "    def __call__(self, x):\n",
    "        counter = 0.0\n",
    "        for obs in self.observations:\n",
    "            if obs <= x:\n",
    "                counter += 1\n",
    "        self.y = counter / len(self.observations)\n",
    "        return self.y\n",
    "    def __plot__(self, a, b):\n",
    "        "
   ]
  },
  {
   "cell_type": "markdown",
   "metadata": {},
   "source": [
    "Here's an example of how it works:"
   ]
  },
  {
   "cell_type": "code",
   "execution_count": 184,
   "metadata": {},
   "outputs": [
    {
     "data": {
      "text/plain": [
       "0.500761"
      ]
     },
     "execution_count": 184,
     "metadata": {},
     "output_type": "execute_result"
    }
   ],
   "source": [
    "F = ECDF(np.random.uniform(0, 1, size=1_000_000))\n",
    "F(0.5)  # Should be close to 0.5"
   ]
  },
  {
   "cell_type": "markdown",
   "metadata": {},
   "source": [
    "Your task is to\n",
    "\n",
    "1. Make the `__call__` method more efficient using NumPy.  \n",
    "1. Add a method that plots the ECDF over $ [a, b] $, where $ a $ and $ b $ are method parameters.  "
   ]
  },
  {
   "cell_type": "code",
   "execution_count": 189,
   "metadata": {},
   "outputs": [],
   "source": [
    "class ECDF:\n",
    "\n",
    "    def __init__(self, observations):\n",
    "        self.observations = observations\n",
    "\n",
    "    def __call__(self, x):\n",
    "        counter = 0.0\n",
    "        for obs in self.observations:\n",
    "            if obs <= x:\n",
    "                counter += 1\n",
    "        self.y = counter / len(self.observations)\n",
    "        return self.y\n",
    "    def __plot__(self, x, a, b):\n",
    "        fig, ax= plt.subplots()\n",
    "        z = np.linspace(a,b, 100)\n",
    "        plt.plot(z, self.y, alpha=0.6)\n",
    "        plt.legend()\n",
    "        plt.show()"
   ]
  },
  {
   "cell_type": "code",
   "execution_count": 190,
   "metadata": {},
   "outputs": [
    {
     "ename": "TypeError",
     "evalue": "__call__() takes 2 positional arguments but 3 were given",
     "output_type": "error",
     "traceback": [
      "\u001b[0;31m---------------------------------------------------------------------------\u001b[0m",
      "\u001b[0;31mTypeError\u001b[0m                                 Traceback (most recent call last)",
      "\u001b[0;32m<ipython-input-190-e96bdb40cdbd>\u001b[0m in \u001b[0;36m<module>\u001b[0;34m\u001b[0m\n\u001b[1;32m      1\u001b[0m \u001b[0mF\u001b[0m \u001b[0;34m=\u001b[0m \u001b[0mECDF\u001b[0m\u001b[0;34m(\u001b[0m\u001b[0mnp\u001b[0m\u001b[0;34m.\u001b[0m\u001b[0mrandom\u001b[0m\u001b[0;34m.\u001b[0m\u001b[0muniform\u001b[0m\u001b[0;34m(\u001b[0m\u001b[0;36m0\u001b[0m\u001b[0;34m,\u001b[0m \u001b[0;36m1\u001b[0m\u001b[0;34m,\u001b[0m \u001b[0msize\u001b[0m\u001b[0;34m=\u001b[0m\u001b[0;36m1_000_000\u001b[0m\u001b[0;34m)\u001b[0m\u001b[0;34m)\u001b[0m\u001b[0;34m\u001b[0m\u001b[0;34m\u001b[0m\u001b[0m\n\u001b[0;32m----> 2\u001b[0;31m \u001b[0mF\u001b[0m\u001b[0;34m(\u001b[0m\u001b[0;36m0.5\u001b[0m\u001b[0;34m,\u001b[0m \u001b[0;36m1\u001b[0m\u001b[0;34m)\u001b[0m\u001b[0;34m\u001b[0m\u001b[0;34m\u001b[0m\u001b[0m\n\u001b[0m",
      "\u001b[0;31mTypeError\u001b[0m: __call__() takes 2 positional arguments but 3 were given"
     ]
    }
   ],
   "source": [
    "F = ECDF(np.random.uniform(0, 1, size=1_000_000))\n",
    "F(0.5, 1)"
   ]
  },
  {
   "cell_type": "markdown",
   "metadata": {},
   "source": [
    "## 5 numba and JIT compilation\n",
    "\n",
    "\n"
   ]
  },
  {
   "cell_type": "markdown",
   "metadata": {},
   "source": [
    "### Exercise 1\n",
    "\n",
    "[An exercise](https://python.quantecon.org/python_by_example.html#Exercise-3) in one of the QuantEcon lectures considers how to approximate $ \\pi $ by\n",
    "Monte Carlo.\n",
    "\n",
    "Use the same idea here, but make the code efficient using Numba.\n",
    "\n",
    "Compare speed with and without Numba when the sample size is large.\n",
    "\n",
    "\n",
    "<a id='speed-ex2'></a>"
   ]
  },
  {
   "cell_type": "code",
   "execution_count": 75,
   "metadata": {},
   "outputs": [],
   "source": [
    "import numpy as np\n",
    "from numba import jit\n",
    "\n",
    "def π(n):\n",
    "    i = 0\n",
    "    s_c = 0\n",
    "    while i <= n:\n",
    "        u = [np.random.uniform(0,1) for i in range(2)]\n",
    "        x, y = u\n",
    "        a = x**2 + y**2\n",
    "        if a <= 1:\n",
    "            s_c += 1\n",
    "        else:\n",
    "            s_c += 0\n",
    "            i += 1\n",
    "    r = 1\n",
    "    s = s_c /n\n",
    "    return (s * 4) / (r**2)\n",
    "q = 1000000\n",
    "π_numba = jit(π)"
   ]
  },
  {
   "cell_type": "code",
   "execution_count": 78,
   "metadata": {},
   "outputs": [
    {
     "name": "stdout",
     "output_type": "stream",
     "text": [
      "CPU times: user 19.9 s, sys: 9.75 ms, total: 19.9 s\n",
      "Wall time: 19.9 s\n"
     ]
    },
    {
     "data": {
      "text/plain": [
       "14.652224"
      ]
     },
     "execution_count": 78,
     "metadata": {},
     "output_type": "execute_result"
    }
   ],
   "source": [
    "%%time\n",
    "π(q)"
   ]
  },
  {
   "cell_type": "code",
   "execution_count": 79,
   "metadata": {},
   "outputs": [
    {
     "name": "stdout",
     "output_type": "stream",
     "text": [
      "CPU times: user 1.69 s, sys: 3.49 ms, total: 1.69 s\n",
      "Wall time: 1.69 s\n"
     ]
    },
    {
     "data": {
      "text/plain": [
       "14.645956"
      ]
     },
     "execution_count": 79,
     "metadata": {},
     "output_type": "execute_result"
    }
   ],
   "source": [
    "%%time\n",
    "π_numba(q)"
   ]
  },
  {
   "cell_type": "markdown",
   "metadata": {},
   "source": [
    "### Exercise 2\n",
    "\n",
    "Later we’ll learn about finite-state Markov chains.\n",
    "\n",
    "For now, let’s just concentrate on simulating a very simple example of such a chain.\n",
    "\n",
    "Suppose that the volatility of returns on an asset can be in one of two regimes — high or low.\n",
    "\n",
    "The transition probabilities across states are as follows\n",
    "\n",
    "![nfs_ex1.png](figures/nfs_ex1.png)  \n",
    "\n",
    "For example, let the period length be one day, and suppose the current state is high.\n",
    "\n",
    "We see from the graph that the state tomorrow will be\n",
    "\n",
    "- high with probability 0.8  \n",
    "- low with probability 0.2  \n",
    "\n",
    "\n",
    "Your task is to simulate a sequence of daily volatility states according to this rule.\n",
    "\n",
    "Set the length of the sequence to `n = 1_000_000` and start in the high state.\n",
    "\n",
    "Implement a pure Python version and a Numba version, and compare speeds.\n",
    "\n",
    "To test your code, evaluate the fraction of time that the chain spends in the low state.\n",
    "\n",
    "If your code is correct, it should be about 2/3.\n",
    "\n",
    "Hints:\n",
    "\n",
    "- Represent the low state as 0 and the high state as 1.  \n",
    "- If you want to store integers in a NumPy array and then apply JIT compilation, use `x = np.empty(n, dtype=np.int_)`.  "
   ]
  },
  {
   "cell_type": "code",
   "execution_count": 179,
   "metadata": {},
   "outputs": [],
   "source": [
    "import numpy as np\n",
    "import numba as nb\n",
    "from numba import jit\n",
    "\n",
    "def vol(n,length_min):\n",
    "    v = np.array([1,0])\n",
    "    new_v = np.copy(v)\n",
    "    Q = np.array([[0.8, 0.2], [0.9, 0.1]])\n",
    "    i = 0\n",
    "    z = 100\n",
    "    x = np.empty(n, dtype=np.int_)\n",
    "    while i <= n:\n",
    "        x[i] = new_v[0]\n",
    "        new_v = v @ Q\n",
    "        z = np.abs(len(new_v - v))\n",
    "        i += 1\n",
    "    return x\n",
    "    "
   ]
  },
  {
   "cell_type": "code",
   "execution_count": 180,
   "metadata": {},
   "outputs": [],
   "source": [
    "n, q = [1000000, 10e-7]\n",
    "vol_numba=jit(vol)"
   ]
  },
  {
   "cell_type": "code",
   "execution_count": 182,
   "metadata": {},
   "outputs": [
    {
     "ename": "IndexError",
     "evalue": "index 1000000 is out of bounds for axis 0 with size 1000000",
     "output_type": "error",
     "traceback": [
      "\u001b[0;31m---------------------------------------------------------------------------\u001b[0m",
      "\u001b[0;31mIndexError\u001b[0m                                Traceback (most recent call last)",
      "\u001b[0;32m<ipython-input-182-9ad624680a74>\u001b[0m in \u001b[0;36m<module>\u001b[0;34m\u001b[0m\n\u001b[0;32m----> 1\u001b[0;31m \u001b[0mvol\u001b[0m\u001b[0;34m(\u001b[0m\u001b[0mn\u001b[0m\u001b[0;34m,\u001b[0m \u001b[0mq\u001b[0m\u001b[0;34m)\u001b[0m\u001b[0;34m\u001b[0m\u001b[0;34m\u001b[0m\u001b[0m\n\u001b[0m",
      "\u001b[0;32m<ipython-input-179-acc2a7c63f7c>\u001b[0m in \u001b[0;36mvol\u001b[0;34m(n, length_min)\u001b[0m\n\u001b[1;32m     11\u001b[0m     \u001b[0mx\u001b[0m \u001b[0;34m=\u001b[0m \u001b[0mnp\u001b[0m\u001b[0;34m.\u001b[0m\u001b[0mempty\u001b[0m\u001b[0;34m(\u001b[0m\u001b[0mn\u001b[0m\u001b[0;34m,\u001b[0m \u001b[0mdtype\u001b[0m\u001b[0;34m=\u001b[0m\u001b[0mnp\u001b[0m\u001b[0;34m.\u001b[0m\u001b[0mint_\u001b[0m\u001b[0;34m)\u001b[0m\u001b[0;34m\u001b[0m\u001b[0;34m\u001b[0m\u001b[0m\n\u001b[1;32m     12\u001b[0m     \u001b[0;32mwhile\u001b[0m \u001b[0mi\u001b[0m \u001b[0;34m<=\u001b[0m \u001b[0mn\u001b[0m\u001b[0;34m:\u001b[0m\u001b[0;34m\u001b[0m\u001b[0;34m\u001b[0m\u001b[0m\n\u001b[0;32m---> 13\u001b[0;31m         \u001b[0mx\u001b[0m\u001b[0;34m[\u001b[0m\u001b[0mi\u001b[0m\u001b[0;34m]\u001b[0m \u001b[0;34m=\u001b[0m \u001b[0mnew_v\u001b[0m\u001b[0;34m[\u001b[0m\u001b[0;36m0\u001b[0m\u001b[0;34m]\u001b[0m\u001b[0;34m\u001b[0m\u001b[0;34m\u001b[0m\u001b[0m\n\u001b[0m\u001b[1;32m     14\u001b[0m         \u001b[0mnew_v\u001b[0m \u001b[0;34m=\u001b[0m \u001b[0mv\u001b[0m \u001b[0;34m@\u001b[0m \u001b[0mQ\u001b[0m\u001b[0;34m\u001b[0m\u001b[0;34m\u001b[0m\u001b[0m\n\u001b[1;32m     15\u001b[0m         \u001b[0mz\u001b[0m \u001b[0;34m=\u001b[0m \u001b[0mnp\u001b[0m\u001b[0;34m.\u001b[0m\u001b[0mabs\u001b[0m\u001b[0;34m(\u001b[0m\u001b[0mlen\u001b[0m\u001b[0;34m(\u001b[0m\u001b[0mnew_v\u001b[0m \u001b[0;34m-\u001b[0m \u001b[0mv\u001b[0m\u001b[0;34m)\u001b[0m\u001b[0;34m)\u001b[0m\u001b[0;34m\u001b[0m\u001b[0;34m\u001b[0m\u001b[0m\n",
      "\u001b[0;31mIndexError\u001b[0m: index 1000000 is out of bounds for axis 0 with size 1000000"
     ]
    }
   ],
   "source": [
    "\n",
    "vol(n, q)"
   ]
  },
  {
   "cell_type": "code",
   "execution_count": 181,
   "metadata": {},
   "outputs": [
    {
     "name": "stderr",
     "output_type": "stream",
     "text": [
      "<ipython-input-179-acc2a7c63f7c>:5: NumbaWarning: \u001b[1m\n",
      "Compilation is falling back to object mode WITH looplifting enabled because Function \"vol\" failed type inference due to: \u001b[1m\u001b[1mInvalid use of Function(<built-in function matmul>) with argument(s) of type(s): (array(int64, 1d, C), array(float64, 2d, C))\n",
      " * parameterized\n",
      "\u001b[1mIn definition 0:\u001b[0m\n",
      "\u001b[1m    TypingError: \u001b[1m'@' arguments must all have the same dtype\u001b[0m\u001b[0m\n",
      "    raised from /Users/shuhu/anaconda3/lib/python3.7/site-packages/numba/typing/npydecl.py:980\n",
      "\u001b[1mIn definition 1:\u001b[0m\n",
      "\u001b[1m    TypingError: \u001b[1m'@' arguments must all have the same dtype\u001b[0m\u001b[0m\n",
      "    raised from /Users/shuhu/anaconda3/lib/python3.7/site-packages/numba/typing/npydecl.py:980\n",
      "\u001b[1mThis error is usually caused by passing an argument of a type that is unsupported by the named function.\u001b[0m\u001b[0m\n",
      "\u001b[0m\u001b[1m[1] During: typing of intrinsic-call at <ipython-input-179-acc2a7c63f7c> (14)\u001b[0m\n",
      "\u001b[1m\n",
      "File \"<ipython-input-179-acc2a7c63f7c>\", line 14:\u001b[0m\n",
      "\u001b[1mdef vol(n,length_min):\n",
      "    <source elided>\n",
      "        x[i] = new_v[0]\n",
      "\u001b[1m        new_v = v @ Q\n",
      "\u001b[0m        \u001b[1m^\u001b[0m\u001b[0m\n",
      "\u001b[0m\n",
      "  def vol(n,length_min):\n",
      "<ipython-input-179-acc2a7c63f7c>:5: NumbaWarning: \u001b[1m\n",
      "Compilation is falling back to object mode WITHOUT looplifting enabled because Function \"vol\" failed type inference due to: \u001b[1m\u001b[1mcannot determine Numba type of <class 'numba.dispatcher.LiftedLoop'>\u001b[0m\n",
      "\u001b[1m\n",
      "File \"<ipython-input-179-acc2a7c63f7c>\", line 11:\u001b[0m\n",
      "\u001b[1mdef vol(n,length_min):\n",
      "    <source elided>\n",
      "    z = 100\n",
      "\u001b[1m    x = np.empty(n, dtype=np.int_)\n",
      "\u001b[0m    \u001b[1m^\u001b[0m\u001b[0m\n",
      "\u001b[0m\u001b[0m\n",
      "  def vol(n,length_min):\n",
      "/Users/shuhu/anaconda3/lib/python3.7/site-packages/numba/object_mode_passes.py:178: NumbaWarning: \u001b[1mFunction \"vol\" was compiled in object mode without forceobj=True, but has lifted loops.\n",
      "\u001b[1m\n",
      "File \"<ipython-input-179-acc2a7c63f7c>\", line 5:\u001b[0m\n",
      "\u001b[1m\n",
      "\u001b[1mdef vol(n,length_min):\n",
      "\u001b[0m\u001b[1m^\u001b[0m\u001b[0m\n",
      "\u001b[0m\n",
      "  state.func_ir.loc))\n",
      "/Users/shuhu/anaconda3/lib/python3.7/site-packages/numba/object_mode_passes.py:187: NumbaDeprecationWarning: \u001b[1m\n",
      "Fall-back from the nopython compilation path to the object mode compilation path has been detected, this is deprecated behaviour.\n",
      "\n",
      "For more information visit http://numba.pydata.org/numba-doc/latest/reference/deprecation.html#deprecation-of-object-mode-fall-back-behaviour-when-using-jit\n",
      "\u001b[1m\n",
      "File \"<ipython-input-179-acc2a7c63f7c>\", line 5:\u001b[0m\n",
      "\u001b[1m\n",
      "\u001b[1mdef vol(n,length_min):\n",
      "\u001b[0m\u001b[1m^\u001b[0m\u001b[0m\n",
      "\u001b[0m\n",
      "  warnings.warn(errors.NumbaDeprecationWarning(msg, state.func_ir.loc))\n",
      "<ipython-input-179-acc2a7c63f7c>:5: NumbaWarning: \u001b[1m\n",
      "Compilation is falling back to object mode WITHOUT looplifting enabled because Function \"vol\" failed type inference due to: \u001b[1m\u001b[1mInvalid use of Function(<built-in function matmul>) with argument(s) of type(s): (array(int64, 1d, C), array(float64, 2d, C))\n",
      " * parameterized\n",
      "\u001b[1mIn definition 0:\u001b[0m\n",
      "\u001b[1m    TypingError: \u001b[1m'@' arguments must all have the same dtype\u001b[0m\u001b[0m\n",
      "    raised from /Users/shuhu/anaconda3/lib/python3.7/site-packages/numba/typing/npydecl.py:980\n",
      "\u001b[1mIn definition 1:\u001b[0m\n",
      "\u001b[1m    TypingError: \u001b[1m'@' arguments must all have the same dtype\u001b[0m\u001b[0m\n",
      "    raised from /Users/shuhu/anaconda3/lib/python3.7/site-packages/numba/typing/npydecl.py:980\n",
      "\u001b[1mThis error is usually caused by passing an argument of a type that is unsupported by the named function.\u001b[0m\u001b[0m\n",
      "\u001b[0m\u001b[1m[1] During: typing of intrinsic-call at <ipython-input-179-acc2a7c63f7c> (14)\u001b[0m\n",
      "\u001b[1m\n",
      "File \"<ipython-input-179-acc2a7c63f7c>\", line 14:\u001b[0m\n",
      "\u001b[1mdef vol(n,length_min):\n",
      "    <source elided>\n",
      "        x[i] = new_v[0]\n",
      "\u001b[1m        new_v = v @ Q\n",
      "\u001b[0m        \u001b[1m^\u001b[0m\u001b[0m\n",
      "\u001b[0m\n",
      "  def vol(n,length_min):\n",
      "/Users/shuhu/anaconda3/lib/python3.7/site-packages/numba/object_mode_passes.py:178: NumbaWarning: \u001b[1mFunction \"vol\" was compiled in object mode without forceobj=True.\n",
      "\u001b[1m\n",
      "File \"<ipython-input-179-acc2a7c63f7c>\", line 11:\u001b[0m\n",
      "\u001b[1mdef vol(n,length_min):\n",
      "    <source elided>\n",
      "    z = 100\n",
      "\u001b[1m    x = np.empty(n, dtype=np.int_)\n",
      "\u001b[0m    \u001b[1m^\u001b[0m\u001b[0m\n",
      "\u001b[0m\n",
      "  state.func_ir.loc))\n",
      "/Users/shuhu/anaconda3/lib/python3.7/site-packages/numba/object_mode_passes.py:187: NumbaDeprecationWarning: \u001b[1m\n",
      "Fall-back from the nopython compilation path to the object mode compilation path has been detected, this is deprecated behaviour.\n",
      "\n",
      "For more information visit http://numba.pydata.org/numba-doc/latest/reference/deprecation.html#deprecation-of-object-mode-fall-back-behaviour-when-using-jit\n",
      "\u001b[1m\n",
      "File \"<ipython-input-179-acc2a7c63f7c>\", line 11:\u001b[0m\n",
      "\u001b[1mdef vol(n,length_min):\n",
      "    <source elided>\n",
      "    z = 100\n",
      "\u001b[1m    x = np.empty(n, dtype=np.int_)\n",
      "\u001b[0m    \u001b[1m^\u001b[0m\u001b[0m\n",
      "\u001b[0m\n",
      "  warnings.warn(errors.NumbaDeprecationWarning(msg, state.func_ir.loc))\n"
     ]
    },
    {
     "ename": "IndexError",
     "evalue": "index 1000000 is out of bounds for axis 0 with size 1000000",
     "output_type": "error",
     "traceback": [
      "\u001b[0;31m---------------------------------------------------------------------------\u001b[0m",
      "\u001b[0;31mIndexError\u001b[0m                                Traceback (most recent call last)",
      "\u001b[0;32m<ipython-input-181-65126e7be388>\u001b[0m in \u001b[0;36m<module>\u001b[0;34m\u001b[0m\n\u001b[0;32m----> 1\u001b[0;31m \u001b[0mvol_numba\u001b[0m\u001b[0;34m(\u001b[0m\u001b[0mn\u001b[0m\u001b[0;34m,\u001b[0m \u001b[0mq\u001b[0m\u001b[0;34m)\u001b[0m\u001b[0;34m\u001b[0m\u001b[0;34m\u001b[0m\u001b[0m\n\u001b[0m",
      "\u001b[0;31mIndexError\u001b[0m: index 1000000 is out of bounds for axis 0 with size 1000000"
     ]
    }
   ],
   "source": [
    "vol_numba(n, q)"
   ]
  },
  {
   "cell_type": "code",
   "execution_count": null,
   "metadata": {},
   "outputs": [],
   "source": []
  }
 ],
 "metadata": {
  "kernelspec": {
   "display_name": "Python 3",
   "language": "python",
   "name": "python3"
  },
  "language_info": {
   "codemirror_mode": {
    "name": "ipython",
    "version": 3
   },
   "file_extension": ".py",
   "mimetype": "text/x-python",
   "name": "python",
   "nbconvert_exporter": "python",
   "pygments_lexer": "ipython3",
   "version": "3.7.3"
  }
 },
 "nbformat": 4,
 "nbformat_minor": 2
}
